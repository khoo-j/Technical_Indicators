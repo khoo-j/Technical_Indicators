{
 "cells": [
  {
   "cell_type": "code",
   "execution_count": 3,
   "metadata": {},
   "outputs": [],
   "source": [
    "import coinbasepro\n",
    "import time\n",
    "import numpy as np\n",
    "import pandas as pd\n",
    "from datetime import datetime\n",
    "from datetime import timedelta\n",
    "import plotly\n",
    "\n",
    "import  plotly.plotly as plt\n",
    "from plotly.tools import FigureFactory as FF\n",
    "from plotly.graph_objs import *\n",
    "\n",
    "#plotly.tools.set_credentials_file(username='xxx', api_key='zzzz') You will set your own plotly API keys here"
   ]
  },
  {
   "cell_type": "code",
   "execution_count": 4,
   "metadata": {},
   "outputs": [],
   "source": [
    "def moving_average(df, n):\n",
    "    \"\"\"Calculate the moving average for the given data.\n",
    "    \n",
    "    :param df: pandas.DataFrame\n",
    "    :param n: \n",
    "    :return: pandas.DataFrame\n",
    "    Source: https://github.com/Crypto-toolbox/pandas-technical-indicators/blob/master/technical_indicators.py\n",
    "    \"\"\"\n",
    "    MA = pd.Series(df['close'].rolling(n, min_periods=n).mean(), name='{}_SMA'.format(n))\n",
    "    df = df.join(MA)\n",
    "    return df\n",
    "\n",
    "def exponential_moving_average(df, n):\n",
    "    \"\"\"\n",
    "    :param df: pandas.DataFrame\n",
    "    :param n: \n",
    "    :return: pandas.DataFrame\n",
    "    Source: https://github.com/Crypto-toolbox/pandas-technical-indicators/blob/master/technical_indicators.py\n",
    "    \"\"\"\n",
    "    EMA = pd.Series(df['close'].ewm(span=n, min_periods=n).mean(), name= '{}_EMA'.format(n))\n",
    "    df = df.join(EMA)\n",
    "    return df\n",
    "\n",
    "def relative_strength_index(df, n):\n",
    "    \"\"\"Calculate Relative Strength Index(RSI) for given data.\n",
    "    \n",
    "    :param df: pandas.DataFrame\n",
    "    :param n: \n",
    "    :return: pandas.DataFrame\n",
    "    Source: https://github.com/Crypto-toolbox/pandas-technical-indicators/blob/master/technical_indicators.py\n",
    "    \"\"\"\n",
    "    i = 0\n",
    "    UpI = [0]\n",
    "    DoI = [0]\n",
    "    while i + 1 <= df.index[-1]:\n",
    "        UpMove = df.loc[i + 1, 'high'] - df.loc[i, 'high']\n",
    "        DoMove = df.loc[i, 'low'] - df.loc[i + 1, 'low']\n",
    "        if UpMove > DoMove and UpMove > 0:\n",
    "            UpD = UpMove\n",
    "        else:\n",
    "            UpD = 0\n",
    "        UpI.append(UpD)\n",
    "        if DoMove > UpMove and DoMove > 0:\n",
    "            DoD = DoMove\n",
    "        else:\n",
    "            DoD = 0\n",
    "        DoI.append(DoD)\n",
    "        i = i + 1\n",
    "    UpI = pd.Series(UpI)\n",
    "    DoI = pd.Series(DoI)\n",
    "    PosDI = pd.Series(UpI.ewm(span=n, min_periods=n).mean())\n",
    "    NegDI = pd.Series(DoI.ewm(span=n, min_periods=n).mean())\n",
    "    RSI = pd.Series(PosDI / (PosDI + NegDI), name='{}_RSI'.format(n))\n",
    "    df = df.join(RSI)\n",
    "    return df\n",
    "\n",
    "def bbands(df, period = 4, num_of_std=2):\n",
    "    \"\"\"Utilize Bollinger bands to set a cut-loss & sell price\n",
    "    \n",
    "    :param df: pandas.DataFrame\n",
    "    :param period: Period for BBands\n",
    "    :param num_of_std: Number of standard deviations\n",
    "    :return: pandas.DataFrame\n",
    "    Source: https://github.com/Crypto-toolbox/pandas-technical-indicators/blob/master/technical_indicators.py\n",
    "    \"\"\"\n",
    "    rolling_mean = pd.Series(df['close'].rolling(period, min_periods=period).mean())\n",
    "    rolling_stdv = pd.Series(df['close'].rolling(period, min_periods=period).std())\n",
    "    upper = rolling_mean + (rolling_stdv* num_of_std)\n",
    "    B1 = pd.Series(upper, name='BBands_up_{}'.format(str(period)))\n",
    "    df = df.join(B1)\n",
    "    lower = rolling_mean - (rolling_stdv*num_of_std)\n",
    "    B2 = pd.Series(lower, name='BBands_low_{}'.format(str(period)))\n",
    "    df = df.join(B2) \n",
    "    return df\n",
    "\n",
    "def add_line(df, s_name, l_color):\n",
    "    a = Scatter(x=df['time'],\n",
    "                y=df[s_name],\n",
    "                name=s_name,\n",
    "                line=scatter.Line(color=l_color))\n",
    "    return a"
   ]
  },
  {
   "cell_type": "code",
   "execution_count": 5,
   "metadata": {},
   "outputs": [],
   "source": [
    "p_client = coinbasepro.PublicClient()"
   ]
  },
  {
   "cell_type": "code",
   "execution_count": 6,
   "metadata": {
    "scrolled": false
   },
   "outputs": [],
   "source": [
    "time_now_iso = datetime.now().isoformat()"
   ]
  },
  {
   "cell_type": "code",
   "execution_count": 7,
   "metadata": {},
   "outputs": [],
   "source": [
    "#Gets past price history. Format of time returned is EPOCH TIME\n",
    "history_300 = sterm_builder(p_client.get_product_historic_rates(product_id = 'ETH-USD', start=time_now_iso, granularity = 300))\n",
    "history_900 = lterm_builder(p_client.get_product_historic_rates(product_id = 'ETH-USD', start=time_now_iso, granularity = 900))\n",
    "history_3600 = lterm_builder(p_client.get_product_historic_rates(product_id = 'ETH-USD', start=time_now_iso, granularity = 3600))"
   ]
  },
  {
   "cell_type": "code",
   "execution_count": 8,
   "metadata": {},
   "outputs": [],
   "source": [
    "#history_300.to_excel(\"5_min.xlsx\")\n",
    "history_900.to_excel(\"15_min.xlsx\")\n",
    "history_3600.to_excel(\"1_hr.xlsx\")"
   ]
  },
  {
   "cell_type": "code",
   "execution_count": 9,
   "metadata": {
    "scrolled": false
   },
   "outputs": [
    {
     "name": "stdout",
     "output_type": "stream",
     "text": [
      "High five! You successfully sent some data to your account on plotly. View your plot in your browser at https://plot.ly/~khoo-j/0 or inside your plot.ly account where it is named 'simple_candlestick'\n"
     ]
    },
    {
     "data": {
      "text/html": [
       "<iframe id=\"igraph\" scrolling=\"no\" style=\"border:none;\" seamless=\"seamless\" src=\"https://plot.ly/~khoo-j/0.embed\" height=\"525px\" width=\"100%\"></iframe>"
      ],
      "text/plain": [
       "<plotly.tools.PlotlyDisplay object>"
      ]
     },
     "execution_count": 9,
     "metadata": {},
     "output_type": "execute_result"
    }
   ],
   "source": [
    "#Visualize via candle and line plot\n",
    "candle_df = history_3600\n",
    "\n",
    "trace = Candlestick(x=candle_df['time'],\n",
    "                    open=candle_df['open'],\n",
    "                    high=candle_df['high'],\n",
    "                    low=candle_df['low'],\n",
    "                    close=candle_df['close'])\n",
    "\n",
    "data = [trace]\n",
    "\n",
    "plt.iplot(data, filename='simple_candlestick')"
   ]
  },
  {
   "cell_type": "code",
   "execution_count": 10,
   "metadata": {
    "scrolled": true
   },
   "outputs": [
    {
     "data": {
      "text/html": [
       "<iframe id=\"igraph\" scrolling=\"no\" style=\"border:none;\" seamless=\"seamless\" src=\"https://plot.ly/~khoo-j/2.embed\" height=\"525px\" width=\"100%\"></iframe>"
      ],
      "text/plain": [
       "<plotly.tools.PlotlyDisplay object>"
      ]
     },
     "execution_count": 10,
     "metadata": {},
     "output_type": "execute_result"
    }
   ],
   "source": [
    "#Visualize the moving averages\n",
    "dict_lines= (#{'name': '5_SMA','color':'rgb(0,255,0)'},\n",
    "             #{'name':'8_SMA','color':'rgb(0,128,128)'},\n",
    "             #{'name':'13_SMA','color':'rgb(0,0,255)'},\n",
    "             #{'name':'5_EMA','color':'rgb(0,255,255)'},\n",
    "             #{'name':'8_EMA','color':'rgb(255,0,255)'},\n",
    "             #{'name':'13_EMA','color':'rgb(255,0,0)'},\n",
    "             {'name':'BBands_up_4','color':'rgb(244, 66, 215)'},\n",
    "             {'name':'BBands_low_4','color':'rgb(244, 66, 215)'},\n",
    "             )\n",
    "\n",
    "sma_plot = []\n",
    "ema_plot = []\n",
    "\n",
    "for line in dict_lines:\n",
    "    scatter_output = add_line(candle_df, line['name'], line['color'])\n",
    "    if 'SMA' in line['name']:\n",
    "        sma_plot.append(scatter_output)\n",
    "    else:\n",
    "        ema_plot.append(scatter_output)\n",
    "        \n",
    "plt.iplot(ema_plot, filename = 'scatter-eth')"
   ]
  },
  {
   "cell_type": "code",
   "execution_count": null,
   "metadata": {
    "collapsed": true
   },
   "outputs": [],
   "source": []
  }
 ],
 "metadata": {
  "kernelspec": {
   "display_name": "Python 3",
   "language": "python",
   "name": "python3"
  },
  "language_info": {
   "codemirror_mode": {
    "name": "ipython",
    "version": 3
   },
   "file_extension": ".py",
   "mimetype": "text/x-python",
   "name": "python",
   "nbconvert_exporter": "python",
   "pygments_lexer": "ipython3",
   "version": "3.7.0"
  }
 },
 "nbformat": 4,
 "nbformat_minor": 2
}
